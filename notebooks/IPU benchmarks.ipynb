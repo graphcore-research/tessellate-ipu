{
 "cells": [
  {
   "cell_type": "code",
   "execution_count": 5,
   "id": "246c84d5",
   "metadata": {},
   "outputs": [
    {
     "name": "stdout",
     "output_type": "stream",
     "text": [
      "IpuDevice(id=0, num_tiles=1472, version=ipu2)\n"
     ]
    }
   ],
   "source": [
    "from jax.config import config\n",
    "import jax\n",
    "import numpy as np\n",
    "\n",
    "devices = jax.devices()\n",
    "print(\"\\n\".join([str(d) for d in devices]))\n",
    "device0 = jax.devices()[0]"
   ]
  },
  {
   "cell_type": "code",
   "execution_count": 3,
   "id": "8f21ff7c",
   "metadata": {},
   "outputs": [],
   "source": [
    "import tessellate_ipu"
   ]
  },
  {
   "cell_type": "code",
   "execution_count": null,
   "id": "0680c2b1",
   "metadata": {},
   "outputs": [],
   "source": []
  },
  {
   "cell_type": "code",
   "execution_count": 24,
   "id": "95a72a5b",
   "metadata": {},
   "outputs": [
    {
     "name": "stdout",
     "output_type": "stream",
     "text": [
      "CPU times: user 1.24 s, sys: 112 ms, total: 1.35 s\n",
      "Wall time: 1.27 s\n"
     ]
    }
   ],
   "source": [
    "@jax.jit\n",
    "def compute_fn(data):\n",
    "    return jax.lax.abs(data)\n",
    "\n",
    "data = np.random.rand(3, 5).astype(np.float32)\n",
    "# Compilation & run\n",
    "%time out = compute_fn(data)"
   ]
  },
  {
   "cell_type": "code",
   "execution_count": null,
   "id": "352899ff",
   "metadata": {},
   "outputs": [],
   "source": []
  },
  {
   "cell_type": "code",
   "execution_count": 25,
   "id": "6929068e",
   "metadata": {},
   "outputs": [
    {
     "name": "stdout",
     "output_type": "stream",
     "text": [
      "CPU times: user 1.33 s, sys: 54.8 ms, total: 1.38 s\n",
      "Wall time: 1.28 s\n"
     ]
    }
   ],
   "source": [
    "from tessellate_ipu import tile_put_sharded, tile_map\n",
    "\n",
    "@jax.jit\n",
    "def compute_fn(data):\n",
    "    # Guide Poplar compilation as much as possible!\n",
    "    t0 = tile_put_sharded(data, (0, 1, 3))\n",
    "    return tile_map(jax.lax.abs_p, t0)\n",
    "\n",
    "data = np.random.rand(3, 5).astype(np.float32)\n",
    "# Compilation & run\n",
    "%time out = compute_fn(data)"
   ]
  },
  {
   "cell_type": "code",
   "execution_count": null,
   "id": "a75f1c82",
   "metadata": {},
   "outputs": [],
   "source": []
  },
  {
   "cell_type": "code",
   "execution_count": null,
   "id": "65b62628",
   "metadata": {},
   "outputs": [],
   "source": []
  }
 ],
 "metadata": {
  "kernelspec": {
   "display_name": "Python 3 (ipykernel)",
   "language": "python",
   "name": "python3"
  },
  "language_info": {
   "codemirror_mode": {
    "name": "ipython",
    "version": 3
   },
   "file_extension": ".py",
   "mimetype": "text/x-python",
   "name": "python",
   "nbconvert_exporter": "python",
   "pygments_lexer": "ipython3",
   "version": "3.8.10"
  }
 },
 "nbformat": 4,
 "nbformat_minor": 5
}
